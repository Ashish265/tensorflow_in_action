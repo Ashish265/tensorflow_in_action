{
  "nbformat": 4,
  "nbformat_minor": 0,
  "metadata": {
    "colab": {
      "provenance": [],
      "authorship_tag": "ABX9TyOROlICfzl0k+e0TnoTa4b/",
      "include_colab_link": true
    },
    "kernelspec": {
      "name": "python3",
      "display_name": "Python 3"
    },
    "language_info": {
      "name": "python"
    }
  },
  "cells": [
    {
      "cell_type": "markdown",
      "metadata": {
        "id": "view-in-github",
        "colab_type": "text"
      },
      "source": [
        "<a href=\"https://colab.research.google.com/github/Ashish265/tensorflow_in_action/blob/main/4.1.Fully_connected_networks.ipynb\" target=\"_parent\"><img src=\"https://colab.research.google.com/assets/colab-badge.svg\" alt=\"Open In Colab\"/></a>"
      ]
    },
    {
      "cell_type": "markdown",
      "source": [
        "# Chapter 4: Dipping Toes in Deep Learning\n",
        "\n",
        "**Fully-Connected Neural Networks**\n",
        "\n",
        "We have already discussed a type of fully-connected neural network (i.e. multi-layer perceptron) in Chapter 1. In this chapter we will learn about a new type of fully-connected neural network; an autoencoder model. An autoencoder is primarly used to be trained in an unsupervised fashion. This means the model can be trained just using inputs, and no labels.\n",
        "\n",
        "In this chapter, you will train an autoencoder to reconstruct images. Specifically, the autoencoder takes the image data, compress it to a small latent space and then reconstruct the image from the compressed latent space values. This is a great way to provide useful features using unsupervised data, for supervised models. For this task we will be using a popular hand-written digit dataset known as MNIST (https://en.wikipedia.org/wiki/MNIST_database).#"
      ],
      "metadata": {
        "id": "jRaqoqoJ4gOK"
      }
    },
    {
      "cell_type": "markdown",
      "source": [
        "**Import necessary libraries**"
      ],
      "metadata": {
        "id": "4BxKcKCg40tr"
      }
    },
    {
      "cell_type": "code",
      "source": [
        "import random\n",
        "import tensorflow as tf\n",
        "from tensorflow.keras.datasets.mnist import load_data\n",
        "import tensorflow_datasets as tfds\n",
        "import numpy as np\n",
        "import matplotlib.pyplot as plt\n",
        "from tensorflow.keras import layers, models\n",
        "import tensorflow.keras.backend as K\n",
        "%matplotlib inline\n",
        "\n",
        "def fix_random_seed(seed):\n",
        "    \"\"\" Setting the random seed of various libraries \"\"\"\n",
        "    try:\n",
        "        np.random.seed(seed)\n",
        "    except NameError:\n",
        "        print(\"Warning: Numpy is not imported. Setting the seed for Numpy failed.\")\n",
        "    try:\n",
        "        tf.random.set_seed(seed)\n",
        "    except NameError:\n",
        "        print(\"Warning: TensorFlow is not imported. Setting the seed for TensorFlow failed.\")\n",
        "    try:\n",
        "        random.seed(seed)\n",
        "    except NameError:\n",
        "        print(\"Warning: random module is not imported. Setting the seed for random failed.\")\n",
        "\n",
        "# Fixing the random seed\n",
        "fix_random_seed(4321)\n",
        "print(\"TensorFlow version: {}\".format(tf.__version__))"
      ],
      "metadata": {
        "colab": {
          "base_uri": "https://localhost:8080/"
        },
        "id": "CWkRQ-XPu9dx",
        "outputId": "1099da86-7472-4efb-e0bc-ec704a2778a3"
      },
      "execution_count": 40,
      "outputs": [
        {
          "output_type": "stream",
          "name": "stdout",
          "text": [
            "TensorFlow version: 2.19.0\n"
          ]
        }
      ]
    },
    {
      "cell_type": "markdown",
      "source": [
        "**Loading MNIST data**\n",
        "\n",
        "Let's load the dataset using Keras. Due to the popularity of the dataset, many utility functions can be found to load the dataset with just a single line of code. x_train and x_test contains 28x28 sized images of hand-written digits and y_train and y_test contains the inter number representing that image (the label)."
      ],
      "metadata": {
        "id": "W6ijTiUb45FZ"
      }
    },
    {
      "cell_type": "code",
      "execution_count": 41,
      "metadata": {
        "id": "5zN5X04Dm7Ds"
      },
      "outputs": [],
      "source": [
        "# Section 4.1\n",
        "\n",
        "# Loading the data\n",
        "from tensorflow.keras.datasets.mnist import load_data\n",
        "(x_train, y_train), (x_test, y_test) = load_data()\n"
      ]
    },
    {
      "cell_type": "code",
      "source": [
        "# Print x_train and y_train\n",
        "print(x_train)\n",
        "print('x_train has shape: {}'.format(x_train.shape))\n",
        "print('\\n')\n",
        "print(y_train)\n",
        "print('y_train has shape: {}'.format(y_train.shape))"
      ],
      "metadata": {
        "colab": {
          "base_uri": "https://localhost:8080/"
        },
        "id": "BR4LIR5audbA",
        "outputId": "9d9cb650-c8a6-44e4-d41b-4d0620b88fdf"
      },
      "execution_count": 42,
      "outputs": [
        {
          "output_type": "stream",
          "name": "stdout",
          "text": [
            "[[[0 0 0 ... 0 0 0]\n",
            "  [0 0 0 ... 0 0 0]\n",
            "  [0 0 0 ... 0 0 0]\n",
            "  ...\n",
            "  [0 0 0 ... 0 0 0]\n",
            "  [0 0 0 ... 0 0 0]\n",
            "  [0 0 0 ... 0 0 0]]\n",
            "\n",
            " [[0 0 0 ... 0 0 0]\n",
            "  [0 0 0 ... 0 0 0]\n",
            "  [0 0 0 ... 0 0 0]\n",
            "  ...\n",
            "  [0 0 0 ... 0 0 0]\n",
            "  [0 0 0 ... 0 0 0]\n",
            "  [0 0 0 ... 0 0 0]]\n",
            "\n",
            " [[0 0 0 ... 0 0 0]\n",
            "  [0 0 0 ... 0 0 0]\n",
            "  [0 0 0 ... 0 0 0]\n",
            "  ...\n",
            "  [0 0 0 ... 0 0 0]\n",
            "  [0 0 0 ... 0 0 0]\n",
            "  [0 0 0 ... 0 0 0]]\n",
            "\n",
            " ...\n",
            "\n",
            " [[0 0 0 ... 0 0 0]\n",
            "  [0 0 0 ... 0 0 0]\n",
            "  [0 0 0 ... 0 0 0]\n",
            "  ...\n",
            "  [0 0 0 ... 0 0 0]\n",
            "  [0 0 0 ... 0 0 0]\n",
            "  [0 0 0 ... 0 0 0]]\n",
            "\n",
            " [[0 0 0 ... 0 0 0]\n",
            "  [0 0 0 ... 0 0 0]\n",
            "  [0 0 0 ... 0 0 0]\n",
            "  ...\n",
            "  [0 0 0 ... 0 0 0]\n",
            "  [0 0 0 ... 0 0 0]\n",
            "  [0 0 0 ... 0 0 0]]\n",
            "\n",
            " [[0 0 0 ... 0 0 0]\n",
            "  [0 0 0 ... 0 0 0]\n",
            "  [0 0 0 ... 0 0 0]\n",
            "  ...\n",
            "  [0 0 0 ... 0 0 0]\n",
            "  [0 0 0 ... 0 0 0]\n",
            "  [0 0 0 ... 0 0 0]]]\n",
            "x_train has shape: (60000, 28, 28)\n",
            "\n",
            "\n",
            "[5 0 4 ... 5 6 8]\n",
            "y_train has shape: (60000,)\n"
          ]
        }
      ]
    },
    {
      "cell_type": "markdown",
      "source": [
        "**Transforming MNIST data**\n",
        "\n",
        "Transforming MNIST data\n",
        "This is an important step. We do two important things here.\n",
        "\n",
        "*   Unwrap the (28x28) image into a 1-dimensional 784 vector (because fully-connected networks need a 1-dimensional input).\n",
        "*   Normalize the input by subtracting 128 and dividing by 128. This is because the pixel values are between [0,255]."
      ],
      "metadata": {
        "id": "ug1FPsHj5Cvf"
      }
    },
    {
      "cell_type": "code",
      "source": [
        "# Some simple preprocessing on the data\n",
        "norm_x_train = ((x_train - 128.0)/128.0).reshape([-1,784])"
      ],
      "metadata": {
        "id": "cHrRhYvkt-_Y"
      },
      "execution_count": 45,
      "outputs": []
    },
    {
      "cell_type": "markdown",
      "source": [
        "**Extracting a small sample and plotting the data**"
      ],
      "metadata": {
        "id": "RovW2WiH5YlE"
      }
    },
    {
      "cell_type": "code",
      "source": [
        "# Section 4.1\n",
        "\n",
        "# We will extract a small sample from the training data to inspect visually\n",
        "sample_images, sample_labels = [],[]\n",
        "for i, (img, lbl) in enumerate(zip(x_train, y_train)):\n",
        "    sample_images.append(img)\n",
        "    sample_labels.append(lbl)\n",
        "    if i>=9: break"
      ],
      "metadata": {
        "id": "jJVzlo8uuW5_"
      },
      "execution_count": 46,
      "outputs": []
    },
    {
      "cell_type": "code",
      "source": [
        "import matplotlib.pyplot as plt\n",
        "# Plotting the images\n",
        "f, axes = plt.subplots(2, 5, figsize=(12,4))\n",
        "for i, (img, lbl) in enumerate(zip(sample_images, sample_labels)):\n",
        "    r, c = i//5, i%5\n",
        "    axes[r,c].imshow(img,cmap='gray')\n",
        "    axes[r,c].axis('off')\n",
        "    axes[r,c].set_title(\"Label {}\".format(lbl))"
      ],
      "metadata": {
        "colab": {
          "base_uri": "https://localhost:8080/",
          "height": 367
        },
        "id": "0oTkMJ9m25RT",
        "outputId": "da446d52-4cde-433b-efb1-894e19bf4783"
      },
      "execution_count": 47,
      "outputs": [
        {
          "output_type": "display_data",
          "data": {
            "text/plain": [
              "<Figure size 1200x400 with 10 Axes>"
            ],
            "image/png": "[encoded data removed]"
          },
          "metadata": {}
        }
      ]
    },
    {
      "cell_type": "markdown",
      "source": [
        "**Creating corrupted images**"
      ],
      "metadata": {
        "id": "Rf4wMIhq5eKH"
      }
    },
    {
      "cell_type": "code",
      "source": [
        "# Section 4.1\n",
        "\n",
        "import numpy as np\n",
        "import matplotlib.pyplot as plt\n",
        "%matplotlib inline\n",
        "\n",
        "x_train_sample = x_train[:10]\n",
        "y_train_sample = y_train[:10]\n",
        "\n",
        "def generate_masked_inputs(x, p, seed=None):\n",
        "    \"\"\" This function applies a binary mask to the input and generate corrupted images \"\"\"\n",
        "    # Fixing the seed\n",
        "    if seed:\n",
        "        np.random.seed(seed)\n",
        "    # Generating a mask using the binomial distribution\n",
        "    mask = np.random.binomial(n=1, p=p, size=x.shape).astype('float32')\n",
        "    return x * mask\n",
        "\n",
        "# Create a training dataset of corrupted images\n",
        "masked_x_train_sample = generate_masked_inputs(x_train_sample, 0.5)\n",
        "\n",
        "# Plotting some of the images\n",
        "f, axes = plt.subplots(2, 5, figsize=(12,4))\n",
        "for i, (img, lbl) in enumerate(zip(masked_x_train_sample, y_train_sample)):\n",
        "    r, c = i//5, i%5\n",
        "    axes[r,c].imshow(img,cmap='gray')\n",
        "    axes[r,c].axis('off')\n",
        "    axes[r,c].set_title(\"Label {}\".format(lbl))"
      ],
      "metadata": {
        "colab": {
          "base_uri": "https://localhost:8080/",
          "height": 367
        },
        "id": "vAQE1h4T25Tv",
        "outputId": "ecc1a155-923f-410c-85f4-80ab3d7e5943"
      },
      "execution_count": 48,
      "outputs": [
        {
          "output_type": "display_data",
          "data": {
            "text/plain": [
              "<Figure size 1200x400 with 10 Axes>"
            ],
            "image/png": "[encoded data removed]"
          },
          "metadata": {}
        }
      ]
    },
    {
      "cell_type": "markdown",
      "source": [
        "**Defining the autoencoder model**\n",
        "\n",
        "Now it's time to define the model. We will define a simple autoencoder model. This model has the following layers.\n",
        "\n",
        "\n",
        "*   A Dense layer with 64 nodes and relu activation\n",
        "*   A Dense layer with 32 nodes and relu activation\n",
        "*   A Dense layer with 64 nodes and relu activation\n",
        "*   A Dense layer with 784 nodes and tanh activation (i.e. the layer that reconstructs the images)\n",
        "\n",
        "Finally, we will compile the model with mean squared error (mse) loss and the adam optimizer."
      ],
      "metadata": {
        "id": "0GwL93eX5jHw"
      }
    },
    {
      "cell_type": "code",
      "source": [
        "# Section 4.1\n",
        "# Code listing 4.1\n",
        "\n",
        "from tensorflow.keras import layers, models\n",
        "import tensorflow.keras.backend as K\n",
        "\n",
        "K.clear_session()\n",
        "\n",
        "# Defining the model\n",
        "autoencoder = models.Sequential(\n",
        "    [layers.Dense(64, activation='relu', input_shape=(784,)),\n",
        "    layers.Dense(32, activation='relu'),\n",
        "    layers.Dense(64, activation='relu'),\n",
        "    layers.Dense(784, activation='tanh')]\n",
        ")\n",
        "\n",
        "# Compiling the model\n",
        "autoencoder.compile(loss='mse', optimizer='adam')\n",
        "\n",
        "# Printing the model summary\n",
        "autoencoder.summary()"
      ],
      "metadata": {
        "colab": {
          "base_uri": "https://localhost:8080/",
          "height": 312
        },
        "id": "HzszwB1325WW",
        "outputId": "dc8259c9-4480-4064-e6f6-aa7c16e06a4a"
      },
      "execution_count": 49,
      "outputs": [
        {
          "output_type": "stream",
          "name": "stderr",
          "text": [
            "/usr/local/lib/python3.12/dist-packages/keras/src/layers/core/dense.py:93: UserWarning: Do not pass an `input_shape`/`input_dim` argument to a layer. When using Sequential models, prefer using an `Input(shape)` object as the first layer in the model instead.\n",
            "  super().__init__(activity_regularizer=activity_regularizer, **kwargs)\n"
          ]
        },
        {
          "output_type": "display_data",
          "data": {
            "text/plain": [
              "\u001b[1mModel: \"sequential\"\u001b[0m\n"
            ],
            "text/html": [
              "<pre style=\"white-space:pre;overflow-x:auto;line-height:normal;font-family:Menlo,'DejaVu Sans Mono',consolas,'Courier New',monospace\"><span style=\"font-weight: bold\">Model: \"sequential\"</span>\n",
              "</pre>\n"
            ]
          },
          "metadata": {}
        },
        {
          "output_type": "display_data",
          "data": {
            "text/plain": [
              "┏━━━━━━━━━━━━━━━━━━━━━━━━━━━━━━━━━┳━━━━━━━━━━━━━━━━━━━━━━━━┳━━━━━━━━━━━━━━━┓\n",
              "┃\u001b[1m \u001b[0m\u001b[1mLayer (type)                   \u001b[0m\u001b[1m \u001b[0m┃\u001b[1m \u001b[0m\u001b[1mOutput Shape          \u001b[0m\u001b[1m \u001b[0m┃\u001b[1m \u001b[0m\u001b[1m      Param #\u001b[0m\u001b[1m \u001b[0m┃\n",
              "┡━━━━━━━━━━━━━━━━━━━━━━━━━━━━━━━━━╇━━━━━━━━━━━━━━━━━━━━━━━━╇━━━━━━━━━━━━━━━┩\n",
              "│ dense (\u001b[38;5;33mDense\u001b[0m)                   │ (\u001b[38;5;45mNone\u001b[0m, \u001b[38;5;34m64\u001b[0m)             │        \u001b[38;5;34m50,240\u001b[0m │\n",
              "├─────────────────────────────────┼────────────────────────┼───────────────┤\n",
              "│ dense_1 (\u001b[38;5;33mDense\u001b[0m)                 │ (\u001b[38;5;45mNone\u001b[0m, \u001b[38;5;34m32\u001b[0m)             │         \u001b[38;5;34m2,080\u001b[0m │\n",
              "├─────────────────────────────────┼────────────────────────┼───────────────┤\n",
              "│ dense_2 (\u001b[38;5;33mDense\u001b[0m)                 │ (\u001b[38;5;45mNone\u001b[0m, \u001b[38;5;34m64\u001b[0m)             │         \u001b[38;5;34m2,112\u001b[0m │\n",
              "├─────────────────────────────────┼────────────────────────┼───────────────┤\n",
              "│ dense_3 (\u001b[38;5;33mDense\u001b[0m)                 │ (\u001b[38;5;45mNone\u001b[0m, \u001b[38;5;34m784\u001b[0m)            │        \u001b[38;5;34m50,960\u001b[0m │\n",
              "└─────────────────────────────────┴────────────────────────┴───────────────┘\n"
            ],
            "text/html": [
              "<pre style=\"white-space:pre;overflow-x:auto;line-height:normal;font-family:Menlo,'DejaVu Sans Mono',consolas,'Courier New',monospace\">┏━━━━━━━━━━━━━━━━━━━━━━━━━━━━━━━━━┳━━━━━━━━━━━━━━━━━━━━━━━━┳━━━━━━━━━━━━━━━┓\n",
              "┃<span style=\"font-weight: bold\"> Layer (type)                    </span>┃<span style=\"font-weight: bold\"> Output Shape           </span>┃<span style=\"font-weight: bold\">       Param # </span>┃\n",
              "┡━━━━━━━━━━━━━━━━━━━━━━━━━━━━━━━━━╇━━━━━━━━━━━━━━━━━━━━━━━━╇━━━━━━━━━━━━━━━┩\n",
              "│ dense (<span style=\"color: #0087ff; text-decoration-color: #0087ff\">Dense</span>)                   │ (<span style=\"color: #00d7ff; text-decoration-color: #00d7ff\">None</span>, <span style=\"color: #00af00; text-decoration-color: #00af00\">64</span>)             │        <span style=\"color: #00af00; text-decoration-color: #00af00\">50,240</span> │\n",
              "├─────────────────────────────────┼────────────────────────┼───────────────┤\n",
              "│ dense_1 (<span style=\"color: #0087ff; text-decoration-color: #0087ff\">Dense</span>)                 │ (<span style=\"color: #00d7ff; text-decoration-color: #00d7ff\">None</span>, <span style=\"color: #00af00; text-decoration-color: #00af00\">32</span>)             │         <span style=\"color: #00af00; text-decoration-color: #00af00\">2,080</span> │\n",
              "├─────────────────────────────────┼────────────────────────┼───────────────┤\n",
              "│ dense_2 (<span style=\"color: #0087ff; text-decoration-color: #0087ff\">Dense</span>)                 │ (<span style=\"color: #00d7ff; text-decoration-color: #00d7ff\">None</span>, <span style=\"color: #00af00; text-decoration-color: #00af00\">64</span>)             │         <span style=\"color: #00af00; text-decoration-color: #00af00\">2,112</span> │\n",
              "├─────────────────────────────────┼────────────────────────┼───────────────┤\n",
              "│ dense_3 (<span style=\"color: #0087ff; text-decoration-color: #0087ff\">Dense</span>)                 │ (<span style=\"color: #00d7ff; text-decoration-color: #00d7ff\">None</span>, <span style=\"color: #00af00; text-decoration-color: #00af00\">784</span>)            │        <span style=\"color: #00af00; text-decoration-color: #00af00\">50,960</span> │\n",
              "└─────────────────────────────────┴────────────────────────┴───────────────┘\n",
              "</pre>\n"
            ]
          },
          "metadata": {}
        },
        {
          "output_type": "display_data",
          "data": {
            "text/plain": [
              "\u001b[1m Total params: \u001b[0m\u001b[38;5;34m105,392\u001b[0m (411.69 KB)\n"
            ],
            "text/html": [
              "<pre style=\"white-space:pre;overflow-x:auto;line-height:normal;font-family:Menlo,'DejaVu Sans Mono',consolas,'Courier New',monospace\"><span style=\"font-weight: bold\"> Total params: </span><span style=\"color: #00af00; text-decoration-color: #00af00\">105,392</span> (411.69 KB)\n",
              "</pre>\n"
            ]
          },
          "metadata": {}
        },
        {
          "output_type": "display_data",
          "data": {
            "text/plain": [
              "\u001b[1m Trainable params: \u001b[0m\u001b[38;5;34m105,392\u001b[0m (411.69 KB)\n"
            ],
            "text/html": [
              "<pre style=\"white-space:pre;overflow-x:auto;line-height:normal;font-family:Menlo,'DejaVu Sans Mono',consolas,'Courier New',monospace\"><span style=\"font-weight: bold\"> Trainable params: </span><span style=\"color: #00af00; text-decoration-color: #00af00\">105,392</span> (411.69 KB)\n",
              "</pre>\n"
            ]
          },
          "metadata": {}
        },
        {
          "output_type": "display_data",
          "data": {
            "text/plain": [
              "\u001b[1m Non-trainable params: \u001b[0m\u001b[38;5;34m0\u001b[0m (0.00 B)\n"
            ],
            "text/html": [
              "<pre style=\"white-space:pre;overflow-x:auto;line-height:normal;font-family:Menlo,'DejaVu Sans Mono',consolas,'Courier New',monospace\"><span style=\"font-weight: bold\"> Non-trainable params: </span><span style=\"color: #00af00; text-decoration-color: #00af00\">0</span> (0.00 B)\n",
              "</pre>\n"
            ]
          },
          "metadata": {}
        }
      ]
    },
    {
      "cell_type": "markdown",
      "source": [
        "**Training the model**\n",
        "\n",
        "Training the model is simple. You call the fit() method with the correct data. Note how the input and the output to the model are the same. This is because we are trying to construct the exact same input as the output of the model. We are using a batch size of 64 and 10 epochs."
      ],
      "metadata": {
        "id": "UeMCEsyB5-tz"
      }
    },
    {
      "cell_type": "code",
      "source": [
        "# Section 4.1\n",
        "\n",
        "# Generating the corrupted version of norm_x_train to be used as training inputs\n",
        "masked_x_train = generate_masked_inputs(norm_x_train, 0.5, seed=1024)\n",
        "# Fit the model\n",
        "history = autoencoder.fit(masked_x_train, norm_x_train, batch_size=64, epochs=10)"
      ],
      "metadata": {
        "colab": {
          "base_uri": "https://localhost:8080/"
        },
        "id": "J56tnEIk25ZH",
        "outputId": "81483e1e-52b8-480d-a3f1-b7e46b20ccd1"
      },
      "execution_count": 50,
      "outputs": [
        {
          "output_type": "stream",
          "name": "stdout",
          "text": [
            "Epoch 1/10\n",
            "\u001b[1m938/938\u001b[0m \u001b[32m━━━━━━━━━━━━━━━━━━━━\u001b[0m\u001b[37m\u001b[0m \u001b[1m6s\u001b[0m 5ms/step - loss: 0.2333\n",
            "Epoch 2/10\n",
            "\u001b[1m938/938\u001b[0m \u001b[32m━━━━━━━━━━━━━━━━━━━━\u001b[0m\u001b[37m\u001b[0m \u001b[1m5s\u001b[0m 5ms/step - loss: 0.1062\n",
            "Epoch 3/10\n",
            "\u001b[1m938/938\u001b[0m \u001b[32m━━━━━━━━━━━━━━━━━━━━\u001b[0m\u001b[37m\u001b[0m \u001b[1m6s\u001b[0m 5ms/step - loss: 0.0964\n",
            "Epoch 4/10\n",
            "\u001b[1m938/938\u001b[0m \u001b[32m━━━━━━━━━━━━━━━━━━━━\u001b[0m\u001b[37m\u001b[0m \u001b[1m4s\u001b[0m 5ms/step - loss: 0.0898\n",
            "Epoch 5/10\n",
            "\u001b[1m938/938\u001b[0m \u001b[32m━━━━━━━━━━━━━━━━━━━━\u001b[0m\u001b[37m\u001b[0m \u001b[1m6s\u001b[0m 6ms/step - loss: 0.0853\n",
            "Epoch 6/10\n",
            "\u001b[1m938/938\u001b[0m \u001b[32m━━━━━━━━━━━━━━━━━━━━\u001b[0m\u001b[37m\u001b[0m \u001b[1m10s\u001b[0m 5ms/step - loss: 0.0825\n",
            "Epoch 7/10\n",
            "\u001b[1m938/938\u001b[0m \u001b[32m━━━━━━━━━━━━━━━━━━━━\u001b[0m\u001b[37m\u001b[0m \u001b[1m6s\u001b[0m 6ms/step - loss: 0.0806\n",
            "Epoch 8/10\n",
            "\u001b[1m938/938\u001b[0m \u001b[32m━━━━━━━━━━━━━━━━━━━━\u001b[0m\u001b[37m\u001b[0m \u001b[1m10s\u001b[0m 6ms/step - loss: 0.0792\n",
            "Epoch 9/10\n",
            "\u001b[1m938/938\u001b[0m \u001b[32m━━━━━━━━━━━━━━━━━━━━\u001b[0m\u001b[37m\u001b[0m \u001b[1m5s\u001b[0m 5ms/step - loss: 0.0781\n",
            "Epoch 10/10\n",
            "\u001b[1m938/938\u001b[0m \u001b[32m━━━━━━━━━━━━━━━━━━━━\u001b[0m\u001b[37m\u001b[0m \u001b[1m5s\u001b[0m 5ms/step - loss: 0.0772\n"
          ]
        }
      ]
    },
    {
      "cell_type": "markdown",
      "source": [
        "**Plotting the loss over time**\n",
        "\n",
        "It is quite clear that our model is learning. You can see the loss steadily going down."
      ],
      "metadata": {
        "id": "yUWDNppl6C1b"
      }
    },
    {
      "cell_type": "code",
      "source": [
        "\n",
        "# Section 4.1\n",
        "\n",
        "# Plotting the loss\n",
        "plt.plot(np.arange(1,11), history.history[\"loss\"])\n",
        "plt.xlabel(\"Epoch\")\n",
        "plt.ylabel(\"Reconstruction loss\")\n",
        "plt.title(\"Autoencoder reconstruction loss for MNIST dataset\")"
      ],
      "metadata": {
        "colab": {
          "base_uri": "https://localhost:8080/",
          "height": 489
        },
        "id": "iDgzuQzs25bo",
        "outputId": "896e1ae1-cbe0-4295-93bc-e2bcb1d30a4d"
      },
      "execution_count": 51,
      "outputs": [
        {
          "output_type": "execute_result",
          "data": {
            "text/plain": [
              "Text(0.5, 1.0, 'Autoencoder reconstruction loss for MNIST dataset')"
            ]
          },
          "metadata": {},
          "execution_count": 51
        },
        {
          "output_type": "display_data",
          "data": {
            "text/plain": [
              "<Figure size 640x480 with 1 Axes>"
            ],
            "image/png": "[encoded data removed]"
          },
          "metadata": {}
        }
      ]
    },
    {
      "cell_type": "markdown",
      "source": [
        "**Predicting restorations of the corrupted images from the network**\n",
        "\n",
        "Great we have a trained model. Now let's get a small sample of images, corrupt them with a mask and then ask the model to predict the correct restoration of the images."
      ],
      "metadata": {
        "id": "shQ6ftui6ITd"
      }
    },
    {
      "cell_type": "code",
      "source": [
        "# Section 4.1\n",
        "\n",
        "# We will use the first 10 samples in our dataset to test the model\n",
        "x_train_sample = x_train[:10]\n",
        "y_train_sample = y_train[:10]\n",
        "\n",
        "# Generating corrupted images using a previously unseen mask\n",
        "masked_x_train_sample = generate_masked_inputs(x_train_sample, 0.5, seed=2048)\n",
        "norm_masked_x = ((x_train - 128.0)/128.0).reshape(-1, 784)\n",
        "\n",
        "# Predicting the restored images from corrupted images\n",
        "y_pred = autoencoder.predict(norm_masked_x)"
      ],
      "metadata": {
        "colab": {
          "base_uri": "https://localhost:8080/"
        },
        "id": "VY_Byzi525ec",
        "outputId": "2e2122c1-b8ef-47c0-cb98-16496e5ddd2b"
      },
      "execution_count": 52,
      "outputs": [
        {
          "output_type": "stream",
          "name": "stdout",
          "text": [
            "\u001b[1m1875/1875\u001b[0m \u001b[32m━━━━━━━━━━━━━━━━━━━━\u001b[0m\u001b[37m\u001b[0m \u001b[1m4s\u001b[0m 2ms/step\n"
          ]
        }
      ]
    },
    {
      "cell_type": "markdown",
      "source": [
        "# Plotting the model predictions"
      ],
      "metadata": {
        "id": "oPN75DWo6WCw"
      }
    },
    {
      "cell_type": "code",
      "source": [
        "# Plotting the corrupted and restored images side-by-side\n",
        "f, axes = plt.subplots(2, 10, figsize=(18,4))\n",
        "for i, (img, res) in enumerate(zip(masked_x_train_sample, y_pred)):\n",
        "    r1, c1 = 0, i\n",
        "    r2, c2 = 1, i\n",
        "    axes[r1,c1].imshow(img,cmap='gray')\n",
        "    axes[r1,c1].axis('off')\n",
        "\n",
        "    res = ((res * 128.0)+128.0).reshape(28,28)\n",
        "    axes[r2,c2].imshow(res,cmap='gray')\n",
        "    axes[r2,c2].axis('off')"
      ],
      "metadata": {
        "colab": {
          "base_uri": "https://localhost:8080/",
          "height": 323
        },
        "id": "X9qtUrE_1Ele",
        "outputId": "c802959c-469b-45e2-d6f4-1e720acb1a8d"
      },
      "execution_count": 53,
      "outputs": [
        {
          "output_type": "display_data",
          "data": {
            "text/plain": [
              "<Figure size 1800x400 with 20 Axes>"
            ],
            "image/png": "[encoded data removed]"
          },
          "metadata": {}
        }
      ]
    },
    {
      "cell_type": "code",
      "source": [],
      "metadata": {
        "id": "LphlUpbT2YR_"
      },
      "execution_count": null,
      "outputs": []
    }
  ]
}