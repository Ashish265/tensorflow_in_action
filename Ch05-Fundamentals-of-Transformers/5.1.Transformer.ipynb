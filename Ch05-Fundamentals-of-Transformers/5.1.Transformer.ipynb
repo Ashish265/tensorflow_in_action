{
  "cells": [
    {
      "cell_type": "markdown",
      "metadata": {
        "id": "WiIJiaWOTO89"
      },
      "source": [
        "# State-of-the-art in deep learning: Transformers\n",
        "\n",
        "Transformers are the latest addition to the deep learning portfolio. Transformer networks started from the natural language processing domain and has permeated to other areas like computer vision. This was introduced in the paper [Attention is all you need](https://arxiv.org/pdf/1706.03762.pdf) by Vaswani et. al. In this chapter, we are going to look at various technical details of how to implement a Transformer ourselves. The Transformer has two main parts.\n",
        "\n",
        "* Encoder\n",
        "* Decoder\n",
        "\n",
        "Both the encoder and the decoder has multiple layers in it, and each layer consists of following types of sub layers.\n",
        "\n",
        "* Self-attention layer - This layer allows to pay attention to other inputs words in the sequence while processing a given input word. For example if the model is processing the word \"it\" from the sentence \"I kicked the ball and it disappeared\", this layer can pay attention the word \"ball\" while processing the word \"it\". This ability is quite important when it comes to natural language related tasks.\n",
        "* Fully connected layer - This adds depth to the model, allowing the model to learn more and more high level features.\n",
        "\n",
        "In this notebook you will learn,\n",
        "\n",
        "* The computations used in the self-attention and fully-connected sub layers\n",
        "* How to use the sub-classing API to create custom Self-Attention and Fully Connected layers\n",
        "* Use TensorFlow opeartions to define input masks\n",
        "* Define the Encoder and Decoder as layers\n",
        "\n",
        "\n",
        "<table align=\"left\">\n",
        "    <td>\n",
        "        <a target=\"_blank\" href=\"https://colab.research.google.com/github/thushv89/manning_tf2_in_action/blob/master/Ch05-Fundamentals-of-Transformers/5.1.Transformer.ipynb\"><img src=\"https://www.tensorflow.org/images/colab_logo_32px.png\" />Run in Google Colab</a>\n",
        "    </td>\n",
        "</table>\n"
      ]
    },
    {
      "cell_type": "markdown",
      "metadata": {
        "id": "9sAg7ZIXTO8_"
      },
      "source": [
        "## Importing necessary libraries"
      ]
    },
    {
      "cell_type": "code",
      "execution_count": 1,
      "metadata": {
        "id": "-OeTKvVFTO8_"
      },
      "outputs": [],
      "source": [
        "import tensorflow as tf\n",
        "import numpy as np\n",
        "from tensorflow.keras import layers, models\n",
        "import math"
      ]
    },
    {
      "cell_type": "markdown",
      "metadata": {
        "id": "Tis59jT-TO9A"
      },
      "source": [
        "## Defining the inputs and variables\n",
        "\n",
        "Here we define an input sequence (having 7 timesteps) and the respective variables that will be in a self-attention layer. The input to the model is a batch of sentences, and each sentence is a sequence of words, and each word is represented as a vector (e.g. word embeddings). In summary, the input has following dimensions.\n",
        "\n",
        "* Batch dimension (1) - In our example, a batch will have a single sentence\n",
        "* Time dimension (7) - In our example, the sentence has 7 words\n",
        "* Feature dimension (512) - In our example, each word is represented by a 512 elements long word vector\n",
        "\n",
        "The weights are of size $n \\times n$, where $n$ is the feature dimensionality of the input to that layer. This means that during the computations, the weight matrix takes a $b \\times t \\times n$ input and prodicues a $b \\times t \\times n$."
      ]
    },
    {
      "cell_type": "code",
      "execution_count": 2,
      "metadata": {
        "id": "IlqdM2OlTO9A",
        "outputId": "f5c7b0b3-86eb-4bf3-f24f-0526938ce511",
        "colab": {
          "base_uri": "https://localhost:8080/"
        }
      },
      "outputs": [
        {
          "output_type": "stream",
          "name": "stdout",
          "text": [
            "x.shape=(1, 7, 512)\n",
            "Wq.shape=(512, 512)\n",
            "Wk.shape=(512, 512)\n",
            "Wv.shape=(512, 512)\n"
          ]
        }
      ],
      "source": [
        "# Section 5.2\n",
        "\n",
        "import tensorflow as tf\n",
        "import numpy as np\n",
        "\n",
        "n_seq = 7 # Sequence length\n",
        "\n",
        "# Defining the input\n",
        "x = tf.constant(np.random.normal(size=(1,n_seq,512)), dtype='float32')\n",
        "\n",
        "# Query, Key and Value matrices\n",
        "Wq = tf.Variable(np.random.normal(size=(512,512)), dtype='float32')\n",
        "Wk = tf.Variable(np.random.normal(size=(512,512)), dtype='float32')\n",
        "Wv = tf.Variable(np.random.normal(size=(512,512)), dtype='float32')\n",
        "\n",
        "# Printing the shapes of the data\n",
        "print('x.shape={}'.format(x.shape))\n",
        "print('Wq.shape={}'.format(Wq.shape))\n",
        "print('Wk.shape={}'.format(Wk.shape))\n",
        "print('Wv.shape={}'.format(Wv.shape))"
      ]
    },
    {
      "cell_type": "markdown",
      "metadata": {
        "id": "YwyNQ8sNTO9B"
      },
      "source": [
        "## Defining the SelfAttention layer\n",
        "\n",
        "Here we are going to define the self-attention mechanism encapsulated in a Keras layer."
      ]
    },
    {
      "cell_type": "code",
      "execution_count": 3,
      "metadata": {
        "id": "pGDhz4DHTO9B",
        "outputId": "e8914272-95c3-42d3-da86-df0aa40ca9e0",
        "colab": {
          "base_uri": "https://localhost:8080/"
        }
      },
      "outputs": [
        {
          "output_type": "stream",
          "name": "stdout",
          "text": [
            "(1, 7, 512)\n"
          ]
        }
      ],
      "source": [
        "# Section 5.2\n",
        "# Code listing 5.1\n",
        "\n",
        "import tensorflow as tf\n",
        "\n",
        "class SelfAttentionLayer(layers.Layer):\n",
        "    \"\"\" Defines the computations in the self attention layer \"\"\"\n",
        "    def __init__(self, d):\n",
        "        super(SelfAttentionLayer, self).__init__()\n",
        "        # Feature dimensionality of the output\n",
        "        self.d = d\n",
        "\n",
        "    def build(self, input_shape):\n",
        "        # Query weight matrix\n",
        "        self.Wq = self.add_weight(\n",
        "            shape=(input_shape[-1], self.d), initializer='glorot_uniform',\n",
        "            trainable=True, dtype='float32'\n",
        "        )\n",
        "        # Key weight matrix\n",
        "        self.Wk = self.add_weight(\n",
        "            shape=(input_shape[-1], self.d), initializer='glorot_uniform',\n",
        "            trainable=True, dtype='float32'\n",
        "        )\n",
        "        # Value weight matrix\n",
        "        self.Wv = self.add_weight(\n",
        "            shape=(input_shape[-1], self.d), initializer='glorot_uniform',\n",
        "            trainable=True, dtype='float32'\n",
        "        )\n",
        "\n",
        "    def call(self, q_x, k_x, v_x):\n",
        "        # Computing query, key and value\n",
        "        q = tf.matmul(q_x,self.Wq)\n",
        "        k = tf.matmul(k_x,self.Wk)\n",
        "        v = tf.matmul(v_x,self.Wv)\n",
        "\n",
        "        # Computing the probability matrix\n",
        "        p = tf.nn.softmax(tf.matmul(q, k, transpose_b=True)/math.sqrt(self.d))\n",
        "        p = tf.squeeze(p)\n",
        "\n",
        "        # Computing the final output\n",
        "        h = tf.matmul(p, v)\n",
        "        return h,p\n",
        "\n",
        "# Creating a dummy self attention layer\n",
        "layer = SelfAttentionLayer(512)\n",
        "# Getting the output\n",
        "h, p = layer(x, x, x)\n",
        "print(h.shape)"
      ]
    },
    {
      "cell_type": "markdown",
      "metadata": {
        "id": "3vd6pYAUTO9B"
      },
      "source": [
        "## Using the Self-Attention in a Multi-head Attention Layer\n",
        "\n",
        "In the Transformer network found in the original paper, the self-attention layers are found as multi-head attention layers. This means each layer has multiple smaller attention layers. This enables the model to learn more robust features than when having a single big attention layer."
      ]
    },
    {
      "cell_type": "code",
      "execution_count": 4,
      "metadata": {
        "id": "rr4kimuSTO9B",
        "outputId": "7c79ac58-62bc-479d-c9d0-72a42da5a858",
        "colab": {
          "base_uri": "https://localhost:8080/"
        }
      },
      "outputs": [
        {
          "output_type": "stream",
          "name": "stdout",
          "text": [
            "(1, 7, 512)\n"
          ]
        }
      ],
      "source": [
        "# Defining an array of SelfAttentionLayer objects forming a multi-head attention layer\n",
        "multi_attn_head = [SelfAttentionLayer(64) for i in range(8)]\n",
        "outputs = [head(x, x, x)[0] for head in multi_attn_head]\n",
        "\n",
        "# Concatting the individual outputs to a single output\n",
        "outputs = tf.concat(outputs, axis=-1)\n",
        "print(outputs.shape)"
      ]
    },
    {
      "cell_type": "markdown",
      "metadata": {
        "id": "r3HdJbOiTO9C"
      },
      "source": [
        "## Defining a SelfAttention layer with Masking Capability\n",
        "\n",
        "The decoder model uses a special type of attention layer. This attention layer masks any words ahead of the current word being processed. This in turn helps to avoid the decoder from seeing words it shouldn't during the training process."
      ]
    },
    {
      "cell_type": "code",
      "execution_count": 5,
      "metadata": {
        "id": "HoVsTjnbTO9C",
        "outputId": "f2fa462b-052f-4244-fa6f-aa9c2da57783",
        "colab": {
          "base_uri": "https://localhost:8080/"
        }
      },
      "outputs": [
        {
          "output_type": "stream",
          "name": "stdout",
          "text": [
            "(1, 7, 512)\n"
          ]
        }
      ],
      "source": [
        "# Section 5.2\n",
        "# Code listing 5.2\n",
        "import tensorflow as tf\n",
        "\n",
        "class SelfAttentionLayer(layers.Layer):\n",
        "    \"\"\" Defines the computations in the self attention layer \"\"\"\n",
        "\n",
        "    def __init__(self, d):\n",
        "        super(SelfAttentionLayer, self).__init__()\n",
        "        # Feature dimensionality of the output\n",
        "        self.d = d\n",
        "\n",
        "    def build(self, input_shape):\n",
        "        # Query weight matrix\n",
        "        self.Wq = self.add_weight(\n",
        "            shape=(input_shape[-1], self.d), initializer='glorot_uniform',\n",
        "            trainable=True, dtype='float32'\n",
        "        )\n",
        "        # Key weight matrix\n",
        "        self.Wk = self.add_weight(\n",
        "            shape=(input_shape[-1], self.d), initializer='glorot_uniform',\n",
        "            trainable=True, dtype='float32'\n",
        "        )\n",
        "        # Value weight matrix\n",
        "        self.Wv = self.add_weight(\n",
        "            shape=(input_shape[-1], self.d), initializer='glorot_uniform',\n",
        "            trainable=True, dtype='float32'\n",
        "        )\n",
        "\n",
        "    def call(self, q_x, k_x, v_x, mask=None):\n",
        "        # Computing query, key and value\n",
        "        q = tf.matmul(q_x,self.Wq) #[None, t, d]\n",
        "        k = tf.matmul(k_x,self.Wk) #[None, t, d]\n",
        "        v = tf.matmul(v_x,self.Wv) #[None, t, d]\n",
        "\n",
        "        # Computing the probability matrix\n",
        "        p = tf.matmul(q, k, transpose_b=True)/math.sqrt(self.d) # [None, t, t]\n",
        "\n",
        "        if mask is None:\n",
        "            p = tf.nn.softmax(p)\n",
        "        else:\n",
        "            # Creating the mask\n",
        "            p += mask * -1e9\n",
        "            p = tf.nn.softmax(p)\n",
        "\n",
        "        # Computing the final output\n",
        "        h = tf.matmul(p, v) # [None, t, t] . [None, t, d] => [None, t, d]\n",
        "        return h,p\n",
        "\n",
        "layer = SelfAttentionLayer(512)\n",
        "mask = 1 - tf.linalg.band_part(tf.ones((7, 7)), -1, 0)\n",
        "h, p = layer(x, x, x, mask)\n",
        "print(h.shape)"
      ]
    },
    {
      "cell_type": "markdown",
      "metadata": {
        "id": "vNDx36F-TO9C"
      },
      "source": [
        "## Defining a Mask using TensorFlow\n",
        "\n",
        "Let's now define an example mask in TensorFlow. As we have defined an input sequence having 7 steps, let's define a mask for 7 steps."
      ]
    },
    {
      "cell_type": "code",
      "execution_count": 6,
      "metadata": {
        "id": "lLgSkro7TO9C",
        "outputId": "1f29afa8-71ab-4f3e-bea3-ea5f101fbded",
        "colab": {
          "base_uri": "https://localhost:8080/"
        }
      },
      "outputs": [
        {
          "output_type": "stream",
          "name": "stdout",
          "text": [
            "tf.Tensor(\n",
            "[[0. 1. 1. 1. 1. 1. 1.]\n",
            " [0. 0. 1. 1. 1. 1. 1.]\n",
            " [0. 0. 0. 1. 1. 1. 1.]\n",
            " [0. 0. 0. 0. 1. 1. 1.]\n",
            " [0. 0. 0. 0. 0. 1. 1.]\n",
            " [0. 0. 0. 0. 0. 0. 1.]\n",
            " [0. 0. 0. 0. 0. 0. 0.]], shape=(7, 7), dtype=float32)\n"
          ]
        }
      ],
      "source": [
        "# Creating a dummy mask\n",
        "mask = 1 - tf.linalg.band_part(tf.ones((7, 7)), -1, 0)\n",
        "print(mask)"
      ]
    },
    {
      "cell_type": "code",
      "execution_count": 7,
      "metadata": {
        "id": "5UTOkrcyTO9C",
        "outputId": "9241243a-a953-43ea-af8b-624a08ae9bd8",
        "colab": {
          "base_uri": "https://localhost:8080/"
        }
      },
      "outputs": [
        {
          "output_type": "stream",
          "name": "stdout",
          "text": [
            "(1, 7, 512)\n"
          ]
        }
      ],
      "source": [
        "multi_attn_head = [SelfAttentionLayer(64) for i in range(8)]\n",
        "outputs = [head(x, x, x)[0] for head in multi_attn_head]\n",
        "outputs = tf.concat(outputs, axis=-1)\n",
        "print(outputs.shape)"
      ]
    },
    {
      "cell_type": "markdown",
      "metadata": {
        "id": "o5IwWnXLTO9C"
      },
      "source": [
        "## Defining the Fully-Connected Layer\n",
        "\n",
        "Now let's define the fully-connected sublayer found in the Transformer networks."
      ]
    },
    {
      "cell_type": "code",
      "execution_count": 8,
      "metadata": {
        "id": "4iAeHL3STO9C",
        "outputId": "79cd0029-b5d8-4746-cd1c-935f45697c37",
        "colab": {
          "base_uri": "https://localhost:8080/"
        }
      },
      "outputs": [
        {
          "output_type": "stream",
          "name": "stdout",
          "text": [
            "(1, 7, 512)\n"
          ]
        }
      ],
      "source": [
        "# Section 5.2\n",
        "# Code listing 5.3\n",
        "import tensorflow as tf\n",
        "\n",
        "class FCLayer(layers.Layer):\n",
        "    \"\"\" The computations of a fully connected sublayer \"\"\"\n",
        "    def __init__(self, d1, d2):\n",
        "        super(FCLayer, self).__init__()\n",
        "        # Dimensionality of the first hidden layer\n",
        "        self.d1 = d1\n",
        "        # Dimensionality of the second hidden layer\n",
        "        self.d2 = d2\n",
        "\n",
        "    def build(self, input_shape):\n",
        "        # First layer's weights and biases\n",
        "        self.W1 = self.add_weight(\n",
        "            shape=(input_shape[-1], self.d1), initializer='glorot_uniform',\n",
        "            trainable=True, dtype='float32'\n",
        "        )\n",
        "        self.b1 = self.add_weight(\n",
        "            shape=(self.d1,), initializer='glorot_uniform',\n",
        "            trainable=True, dtype='float32'\n",
        "        )\n",
        "        # Second layer's weights and biases\n",
        "        self.W2 = self.add_weight(\n",
        "            shape=(self.d1, self.d2), initializer='glorot_uniform',\n",
        "            trainable=True, dtype='float32'\n",
        "        )\n",
        "        self.b2 = self.add_weight(\n",
        "            shape=(self.d2,), initializer='glorot_uniform',\n",
        "            trainable=True, dtype='float32'\n",
        "        )\n",
        "\n",
        "    def call(self, x):\n",
        "        # Computing the first fully connected output\n",
        "        ff1 = tf.nn.relu(tf.matmul(x,self.W1)+self.b1)\n",
        "        # Computing the second fully connected output\n",
        "        # Note that the second layer doesn't use an activation\n",
        "        ff2 = tf.matmul(ff1, self.W2)+self.b2\n",
        "        return ff2\n",
        "\n",
        "# Creating a dummy fully connected layer\n",
        "ff = FCLayer(2048, 512)(h)\n",
        "print(ff.shape)"
      ]
    },
    {
      "cell_type": "markdown",
      "metadata": {
        "id": "ATV2O1tLTO9C"
      },
      "source": [
        "## Defining the Encoder Layer and the Decoder Layer\n",
        "\n",
        "With all the low-level details ironed out, let's define the encoder and decoder layers."
      ]
    },
    {
      "cell_type": "code",
      "execution_count": 9,
      "metadata": {
        "id": "XwUJpZRYTO9D"
      },
      "outputs": [],
      "source": [
        "# Section 5.2\n",
        "# Code listing 5.5\n",
        "\n",
        "import tensorflow as tf\n",
        "\n",
        "class EncoderLayer(layers.Layer):\n",
        "    \"\"\" The Encoder layer \"\"\"\n",
        "\n",
        "    def __init__(self, d, n_heads):\n",
        "        super(EncoderLayer, self).__init__()\n",
        "        # Feature dimensionality\n",
        "        self.d = d\n",
        "        # Dimensionality of a head\n",
        "        self.d_head = int(d/n_heads)\n",
        "        # Number of heads\n",
        "        self.n_heads = n_heads\n",
        "        # Actual attention heads\n",
        "        self.attn_heads = [SelfAttentionLayer(self.d_head) for i in range(self.n_heads)]\n",
        "        # Fully connected layer\n",
        "        self.fc_layer = FCLayer(2048, self.d)\n",
        "\n",
        "    def call(self, x):\n",
        "\n",
        "        def compute_multihead_output(x):\n",
        "            \"\"\" Computing the multi head attention output\"\"\"\n",
        "            outputs = [head(x, x, x)[0] for head in self.attn_heads]\n",
        "            outputs = tf.concat(outputs, axis=-1)\n",
        "            return outputs\n",
        "\n",
        "        # Multi head attention layer output\n",
        "        h1 = compute_multihead_output(x)\n",
        "        # Fully connected layer output\n",
        "        y = self.fc_layer(h1)\n",
        "\n",
        "        return y"
      ]
    },
    {
      "cell_type": "code",
      "execution_count": 10,
      "metadata": {
        "id": "cLioV5aLTO9D"
      },
      "outputs": [],
      "source": [
        "# Code listing 5.6\n",
        "class DecoderLayer(layers.Layer):\n",
        "    \"\"\" The decoder layer \"\"\"\n",
        "    def __init__(self, d, n_heads):\n",
        "        super(DecoderLayer, self).__init__()\n",
        "        # Feature dimensionality\n",
        "        self.d = d\n",
        "        # Dimensionality of a single head\n",
        "        self.d_head = int(d/n_heads)\n",
        "        # Actual self attention heads (decoder inputs)\n",
        "        self.dec_attn_heads = [SelfAttentionLayer(self.d_head) for i in range(n_heads)]\n",
        "        # Actual self attention heads (encoder outputs)\n",
        "        self.attn_heads = [SelfAttentionLayer(self.d_head) for i in range(n_heads)]\n",
        "        # Fully connected layer\n",
        "        self.fc_layer = FCLayer(2048, self.d)\n",
        "\n",
        "    def call(self, de_x, en_x, mask=None):\n",
        "\n",
        "        def compute_multihead_output(attn_heads, de_x, en_x, mask=None):\n",
        "            \"\"\" Computing the multi head attention output\"\"\"\n",
        "            outputs = [head(en_x, en_x, de_x, mask)[0] for head in attn_heads]\n",
        "            outputs = tf.concat(outputs, axis=-1)\n",
        "            return outputs\n",
        "\n",
        "        # Multi head attention layer output (from decoder inputs)\n",
        "        h1 = compute_multihead_output(self.dec_attn_heads, de_x, de_x, mask)\n",
        "        # Multi head attention layer output (from encoder outputs)\n",
        "        h2 = compute_multihead_output(self.attn_heads, h1, en_x)\n",
        "        y = self.fc_layer(h2)\n",
        "        return y"
      ]
    },
    {
      "cell_type": "markdown",
      "metadata": {
        "id": "rD3Zo4arTO9D"
      },
      "source": [
        "## Defining a Simple Transformer Network"
      ]
    },
    {
      "cell_type": "code",
      "execution_count": 11,
      "metadata": {
        "id": "kA5oh4c5TO9D",
        "outputId": "d98d9b26-8189-484b-8203-ff96e9bfe83d",
        "colab": {
          "base_uri": "https://localhost:8080/",
          "height": 580
        }
      },
      "outputs": [
        {
          "output_type": "stream",
          "name": "stderr",
          "text": [
            "/usr/local/lib/python3.12/dist-packages/keras/src/layers/core/embedding.py:97: UserWarning: Argument `input_length` is deprecated. Just remove it.\n",
            "  warnings.warn(\n"
          ]
        },
        {
          "output_type": "display_data",
          "data": {
            "text/plain": [
              "\u001b[1mModel: \"MinTransformer\"\u001b[0m\n"
            ],
            "text/html": [
              "<pre style=\"white-space:pre;overflow-x:auto;line-height:normal;font-family:Menlo,'DejaVu Sans Mono',consolas,'Courier New',monospace\"><span style=\"font-weight: bold\">Model: \"MinTransformer\"</span>\n",
              "</pre>\n"
            ]
          },
          "metadata": {}
        },
        {
          "output_type": "display_data",
          "data": {
            "text/plain": [
              "┏━━━━━━━━━━━━━━━━━━━━━┳━━━━━━━━━━━━━━━━━━━┳━━━━━━━━━━━━┳━━━━━━━━━━━━━━━━━━━┓\n",
              "┃\u001b[1m \u001b[0m\u001b[1mLayer (type)       \u001b[0m\u001b[1m \u001b[0m┃\u001b[1m \u001b[0m\u001b[1mOutput Shape     \u001b[0m\u001b[1m \u001b[0m┃\u001b[1m \u001b[0m\u001b[1m   Param #\u001b[0m\u001b[1m \u001b[0m┃\u001b[1m \u001b[0m\u001b[1mConnected to     \u001b[0m\u001b[1m \u001b[0m┃\n",
              "┡━━━━━━━━━━━━━━━━━━━━━╇━━━━━━━━━━━━━━━━━━━╇━━━━━━━━━━━━╇━━━━━━━━━━━━━━━━━━━┩\n",
              "│ input_layer         │ (\u001b[38;5;45mNone\u001b[0m, \u001b[38;5;34m25\u001b[0m)        │          \u001b[38;5;34m0\u001b[0m │ -                 │\n",
              "│ (\u001b[38;5;33mInputLayer\u001b[0m)        │                   │            │                   │\n",
              "├─────────────────────┼───────────────────┼────────────┼───────────────────┤\n",
              "│ embedding           │ (\u001b[38;5;45mNone\u001b[0m, \u001b[38;5;34m25\u001b[0m, \u001b[38;5;34m512\u001b[0m)   │    \u001b[38;5;34m153,600\u001b[0m │ input_layer[\u001b[38;5;34m0\u001b[0m][\u001b[38;5;34m0\u001b[0m] │\n",
              "│ (\u001b[38;5;33mEmbedding\u001b[0m)         │                   │            │                   │\n",
              "├─────────────────────┼───────────────────┼────────────┼───────────────────┤\n",
              "│ input_layer_1       │ (\u001b[38;5;45mNone\u001b[0m, \u001b[38;5;34m25\u001b[0m)        │          \u001b[38;5;34m0\u001b[0m │ -                 │\n",
              "│ (\u001b[38;5;33mInputLayer\u001b[0m)        │                   │            │                   │\n",
              "├─────────────────────┼───────────────────┼────────────┼───────────────────┤\n",
              "│ encoder_layer       │ (\u001b[38;5;45mNone\u001b[0m, \u001b[38;5;34m25\u001b[0m, \u001b[38;5;34m512\u001b[0m)   │  \u001b[38;5;34m2,886,144\u001b[0m │ embedding[\u001b[38;5;34m0\u001b[0m][\u001b[38;5;34m0\u001b[0m]   │\n",
              "│ (\u001b[38;5;33mEncoderLayer\u001b[0m)      │                   │            │                   │\n",
              "├─────────────────────┼───────────────────┼────────────┼───────────────────┤\n",
              "│ embedding_1         │ (\u001b[38;5;45mNone\u001b[0m, \u001b[38;5;34m25\u001b[0m, \u001b[38;5;34m512\u001b[0m)   │    \u001b[38;5;34m204,800\u001b[0m │ input_layer_1[\u001b[38;5;34m0\u001b[0m]… │\n",
              "│ (\u001b[38;5;33mEmbedding\u001b[0m)         │                   │            │                   │\n",
              "├─────────────────────┼───────────────────┼────────────┼───────────────────┤\n",
              "│ encoder_layer_1     │ (\u001b[38;5;45mNone\u001b[0m, \u001b[38;5;34m25\u001b[0m, \u001b[38;5;34m512\u001b[0m)   │  \u001b[38;5;34m2,886,144\u001b[0m │ encoder_layer[\u001b[38;5;34m0\u001b[0m]… │\n",
              "│ (\u001b[38;5;33mEncoderLayer\u001b[0m)      │                   │            │                   │\n",
              "├─────────────────────┼───────────────────┼────────────┼───────────────────┤\n",
              "│ decoder_layer       │ (\u001b[38;5;45mNone\u001b[0m, \u001b[38;5;34m25\u001b[0m, \u001b[38;5;34m512\u001b[0m)   │  \u001b[38;5;34m3,672,576\u001b[0m │ embedding_1[\u001b[38;5;34m0\u001b[0m][\u001b[38;5;34m0\u001b[0m… │\n",
              "│ (\u001b[38;5;33mDecoderLayer\u001b[0m)      │                   │            │ encoder_layer_1[\u001b[38;5;34m…\u001b[0m │\n",
              "├─────────────────────┼───────────────────┼────────────┼───────────────────┤\n",
              "│ decoder_layer_1     │ (\u001b[38;5;45mNone\u001b[0m, \u001b[38;5;34m25\u001b[0m, \u001b[38;5;34m512\u001b[0m)   │  \u001b[38;5;34m3,672,576\u001b[0m │ decoder_layer[\u001b[38;5;34m0\u001b[0m]… │\n",
              "│ (\u001b[38;5;33mDecoderLayer\u001b[0m)      │                   │            │ encoder_layer_1[\u001b[38;5;34m…\u001b[0m │\n",
              "├─────────────────────┼───────────────────┼────────────┼───────────────────┤\n",
              "│ dense (\u001b[38;5;33mDense\u001b[0m)       │ (\u001b[38;5;45mNone\u001b[0m, \u001b[38;5;34m25\u001b[0m, \u001b[38;5;34m400\u001b[0m)   │    \u001b[38;5;34m205,200\u001b[0m │ decoder_layer_1[\u001b[38;5;34m…\u001b[0m │\n",
              "└─────────────────────┴───────────────────┴────────────┴───────────────────┘\n"
            ],
            "text/html": [
              "<pre style=\"white-space:pre;overflow-x:auto;line-height:normal;font-family:Menlo,'DejaVu Sans Mono',consolas,'Courier New',monospace\">┏━━━━━━━━━━━━━━━━━━━━━┳━━━━━━━━━━━━━━━━━━━┳━━━━━━━━━━━━┳━━━━━━━━━━━━━━━━━━━┓\n",
              "┃<span style=\"font-weight: bold\"> Layer (type)        </span>┃<span style=\"font-weight: bold\"> Output Shape      </span>┃<span style=\"font-weight: bold\">    Param # </span>┃<span style=\"font-weight: bold\"> Connected to      </span>┃\n",
              "┡━━━━━━━━━━━━━━━━━━━━━╇━━━━━━━━━━━━━━━━━━━╇━━━━━━━━━━━━╇━━━━━━━━━━━━━━━━━━━┩\n",
              "│ input_layer         │ (<span style=\"color: #00d7ff; text-decoration-color: #00d7ff\">None</span>, <span style=\"color: #00af00; text-decoration-color: #00af00\">25</span>)        │          <span style=\"color: #00af00; text-decoration-color: #00af00\">0</span> │ -                 │\n",
              "│ (<span style=\"color: #0087ff; text-decoration-color: #0087ff\">InputLayer</span>)        │                   │            │                   │\n",
              "├─────────────────────┼───────────────────┼────────────┼───────────────────┤\n",
              "│ embedding           │ (<span style=\"color: #00d7ff; text-decoration-color: #00d7ff\">None</span>, <span style=\"color: #00af00; text-decoration-color: #00af00\">25</span>, <span style=\"color: #00af00; text-decoration-color: #00af00\">512</span>)   │    <span style=\"color: #00af00; text-decoration-color: #00af00\">153,600</span> │ input_layer[<span style=\"color: #00af00; text-decoration-color: #00af00\">0</span>][<span style=\"color: #00af00; text-decoration-color: #00af00\">0</span>] │\n",
              "│ (<span style=\"color: #0087ff; text-decoration-color: #0087ff\">Embedding</span>)         │                   │            │                   │\n",
              "├─────────────────────┼───────────────────┼────────────┼───────────────────┤\n",
              "│ input_layer_1       │ (<span style=\"color: #00d7ff; text-decoration-color: #00d7ff\">None</span>, <span style=\"color: #00af00; text-decoration-color: #00af00\">25</span>)        │          <span style=\"color: #00af00; text-decoration-color: #00af00\">0</span> │ -                 │\n",
              "│ (<span style=\"color: #0087ff; text-decoration-color: #0087ff\">InputLayer</span>)        │                   │            │                   │\n",
              "├─────────────────────┼───────────────────┼────────────┼───────────────────┤\n",
              "│ encoder_layer       │ (<span style=\"color: #00d7ff; text-decoration-color: #00d7ff\">None</span>, <span style=\"color: #00af00; text-decoration-color: #00af00\">25</span>, <span style=\"color: #00af00; text-decoration-color: #00af00\">512</span>)   │  <span style=\"color: #00af00; text-decoration-color: #00af00\">2,886,144</span> │ embedding[<span style=\"color: #00af00; text-decoration-color: #00af00\">0</span>][<span style=\"color: #00af00; text-decoration-color: #00af00\">0</span>]   │\n",
              "│ (<span style=\"color: #0087ff; text-decoration-color: #0087ff\">EncoderLayer</span>)      │                   │            │                   │\n",
              "├─────────────────────┼───────────────────┼────────────┼───────────────────┤\n",
              "│ embedding_1         │ (<span style=\"color: #00d7ff; text-decoration-color: #00d7ff\">None</span>, <span style=\"color: #00af00; text-decoration-color: #00af00\">25</span>, <span style=\"color: #00af00; text-decoration-color: #00af00\">512</span>)   │    <span style=\"color: #00af00; text-decoration-color: #00af00\">204,800</span> │ input_layer_1[<span style=\"color: #00af00; text-decoration-color: #00af00\">0</span>]… │\n",
              "│ (<span style=\"color: #0087ff; text-decoration-color: #0087ff\">Embedding</span>)         │                   │            │                   │\n",
              "├─────────────────────┼───────────────────┼────────────┼───────────────────┤\n",
              "│ encoder_layer_1     │ (<span style=\"color: #00d7ff; text-decoration-color: #00d7ff\">None</span>, <span style=\"color: #00af00; text-decoration-color: #00af00\">25</span>, <span style=\"color: #00af00; text-decoration-color: #00af00\">512</span>)   │  <span style=\"color: #00af00; text-decoration-color: #00af00\">2,886,144</span> │ encoder_layer[<span style=\"color: #00af00; text-decoration-color: #00af00\">0</span>]… │\n",
              "│ (<span style=\"color: #0087ff; text-decoration-color: #0087ff\">EncoderLayer</span>)      │                   │            │                   │\n",
              "├─────────────────────┼───────────────────┼────────────┼───────────────────┤\n",
              "│ decoder_layer       │ (<span style=\"color: #00d7ff; text-decoration-color: #00d7ff\">None</span>, <span style=\"color: #00af00; text-decoration-color: #00af00\">25</span>, <span style=\"color: #00af00; text-decoration-color: #00af00\">512</span>)   │  <span style=\"color: #00af00; text-decoration-color: #00af00\">3,672,576</span> │ embedding_1[<span style=\"color: #00af00; text-decoration-color: #00af00\">0</span>][<span style=\"color: #00af00; text-decoration-color: #00af00\">0</span>… │\n",
              "│ (<span style=\"color: #0087ff; text-decoration-color: #0087ff\">DecoderLayer</span>)      │                   │            │ encoder_layer_1[<span style=\"color: #00af00; text-decoration-color: #00af00\">…</span> │\n",
              "├─────────────────────┼───────────────────┼────────────┼───────────────────┤\n",
              "│ decoder_layer_1     │ (<span style=\"color: #00d7ff; text-decoration-color: #00d7ff\">None</span>, <span style=\"color: #00af00; text-decoration-color: #00af00\">25</span>, <span style=\"color: #00af00; text-decoration-color: #00af00\">512</span>)   │  <span style=\"color: #00af00; text-decoration-color: #00af00\">3,672,576</span> │ decoder_layer[<span style=\"color: #00af00; text-decoration-color: #00af00\">0</span>]… │\n",
              "│ (<span style=\"color: #0087ff; text-decoration-color: #0087ff\">DecoderLayer</span>)      │                   │            │ encoder_layer_1[<span style=\"color: #00af00; text-decoration-color: #00af00\">…</span> │\n",
              "├─────────────────────┼───────────────────┼────────────┼───────────────────┤\n",
              "│ dense (<span style=\"color: #0087ff; text-decoration-color: #0087ff\">Dense</span>)       │ (<span style=\"color: #00d7ff; text-decoration-color: #00d7ff\">None</span>, <span style=\"color: #00af00; text-decoration-color: #00af00\">25</span>, <span style=\"color: #00af00; text-decoration-color: #00af00\">400</span>)   │    <span style=\"color: #00af00; text-decoration-color: #00af00\">205,200</span> │ decoder_layer_1[<span style=\"color: #00af00; text-decoration-color: #00af00\">…</span> │\n",
              "└─────────────────────┴───────────────────┴────────────┴───────────────────┘\n",
              "</pre>\n"
            ]
          },
          "metadata": {}
        },
        {
          "output_type": "display_data",
          "data": {
            "text/plain": [
              "\u001b[1m Total params: \u001b[0m\u001b[38;5;34m13,681,040\u001b[0m (52.19 MB)\n"
            ],
            "text/html": [
              "<pre style=\"white-space:pre;overflow-x:auto;line-height:normal;font-family:Menlo,'DejaVu Sans Mono',consolas,'Courier New',monospace\"><span style=\"font-weight: bold\"> Total params: </span><span style=\"color: #00af00; text-decoration-color: #00af00\">13,681,040</span> (52.19 MB)\n",
              "</pre>\n"
            ]
          },
          "metadata": {}
        },
        {
          "output_type": "display_data",
          "data": {
            "text/plain": [
              "\u001b[1m Trainable params: \u001b[0m\u001b[38;5;34m13,681,040\u001b[0m (52.19 MB)\n"
            ],
            "text/html": [
              "<pre style=\"white-space:pre;overflow-x:auto;line-height:normal;font-family:Menlo,'DejaVu Sans Mono',consolas,'Courier New',monospace\"><span style=\"font-weight: bold\"> Trainable params: </span><span style=\"color: #00af00; text-decoration-color: #00af00\">13,681,040</span> (52.19 MB)\n",
              "</pre>\n"
            ]
          },
          "metadata": {}
        },
        {
          "output_type": "display_data",
          "data": {
            "text/plain": [
              "\u001b[1m Non-trainable params: \u001b[0m\u001b[38;5;34m0\u001b[0m (0.00 B)\n"
            ],
            "text/html": [
              "<pre style=\"white-space:pre;overflow-x:auto;line-height:normal;font-family:Menlo,'DejaVu Sans Mono',consolas,'Courier New',monospace\"><span style=\"font-weight: bold\"> Non-trainable params: </span><span style=\"color: #00af00; text-decoration-color: #00af00\">0</span> (0.00 B)\n",
              "</pre>\n"
            ]
          },
          "metadata": {}
        }
      ],
      "source": [
        "# Section 5.2\n",
        "# Code listing 5.7\n",
        "\n",
        "import tensorflow as tf\n",
        "\n",
        "# Defining some hyperparameters\n",
        "n_steps = 25 # Sequence length\n",
        "n_en_vocab = 300 # Encoder's vocabulary size\n",
        "n_de_vocab = 400 # Decoder's vocabulary size\n",
        "n_heads = 8 # Number of attention heads\n",
        "d = 512 # The feature dimensionality of each layer\n",
        "\n",
        "# Look-ahead mask\n",
        "mask = 1 - tf.linalg.band_part(tf.ones((n_steps, n_steps)), -1, 0)\n",
        "\n",
        "# Encoder input layer\n",
        "en_inp = layers.Input(shape=(n_steps,))\n",
        "# Encoder input embedddings\n",
        "en_emb = layers.Embedding(n_en_vocab, 512, input_length=n_steps)(en_inp)\n",
        "\n",
        "# Two encoder layers\n",
        "en_out1 = EncoderLayer(d, n_heads)(en_emb)\n",
        "en_out2 = EncoderLayer(d, n_heads)(en_out1)\n",
        "\n",
        "# Decoder input layer\n",
        "de_inp = layers.Input(shape=(n_steps,))\n",
        "# Decoder input embeddings\n",
        "de_emb = layers.Embedding(n_de_vocab, 512, input_length=n_steps)(de_inp)\n",
        "\n",
        "# Two decoder layers\n",
        "de_out1 = DecoderLayer(d, n_heads)(de_emb, en_out2, mask)\n",
        "de_out2 = DecoderLayer(d, n_heads)(de_out1, en_out2, mask)\n",
        "\n",
        "# Final output layer\n",
        "de_pred = layers.Dense(n_de_vocab, activation='softmax')(de_out2)\n",
        "\n",
        "# Defining the model\n",
        "transformer = models.Model(inputs=[en_inp, de_inp], outputs=de_pred, name='MinTransformer')\n",
        "# Compiling the model\n",
        "transformer.compile(loss='categorical_crossentropy', optimizer='adam', metrics=['acc'])\n",
        "transformer.summary()"
      ]
    },
    {
      "cell_type": "code",
      "execution_count": 11,
      "metadata": {
        "id": "bbX_8zTCTO9D"
      },
      "outputs": [],
      "source": []
    },
    {
      "cell_type": "code",
      "execution_count": 11,
      "metadata": {
        "id": "ziKXQaC3TO9D"
      },
      "outputs": [],
      "source": []
    }
  ],
  "metadata": {
    "kernelspec": {
      "display_name": "Python 3 (ipykernel)",
      "language": "python",
      "name": "python3"
    },
    "language_info": {
      "codemirror_mode": {
        "name": "ipython",
        "version": 3
      },
      "file_extension": ".py",
      "mimetype": "text/x-python",
      "name": "python",
      "nbconvert_exporter": "python",
      "pygments_lexer": "ipython3",
      "version": "3.10.4"
    },
    "colab": {
      "provenance": []
    }
  },
  "nbformat": 4,
  "nbformat_minor": 0
}